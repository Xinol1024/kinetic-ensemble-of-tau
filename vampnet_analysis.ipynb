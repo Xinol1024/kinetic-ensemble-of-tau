{
 "cells": [
  {
   "attachments": {},
   "cell_type": "markdown",
   "metadata": {},
   "source": [
    "# Analysis"
   ]
  },
  {
   "cell_type": "code",
   "execution_count": null,
   "metadata": {},
   "outputs": [],
   "source": [
    "import itertools\n",
    "from typing import List, Tuple, Sequence\n",
    "import warnings\n",
    "\n",
    "import holoviews as hv\n",
    "import h5py\n",
    "import matplotlib.pyplot as plt\n",
    "from matplotlib import rc, ticker\n",
    "from msmtools.flux import tpt\n",
    "import numpy as np\n",
    "from scipy.linalg import eig\n",
    "import seaborn as sns\n",
    "\n",
    "# Plot settings\n",
    "sns.set_palette(\"husl\", 8)\n",
    "rc(\"font\", **{\"family\": \"Helvetica\",\n",
    "              \"sans-serif\": [\"Helvetica\"]})\n",
    "rc(\"svg\", **{\"fonttype\": \"none\"})\n",
    "colors = sns.color_palette(\"husl\", 8)\n",
    "hv.extension(\"matplotlib\")\n",
    "\n",
    "warnings.filterwarnings('ignore')\n",
    "\n",
    "%matplotlib inline\n",
    "%config InlineBackend.figure_format = 'retina'"
   ]
  },
  {
   "attachments": {},
   "cell_type": "markdown",
   "metadata": {},
   "source": [
    "## Utility functions"
   ]
  },
  {
   "cell_type": "code",
   "execution_count": 2,
   "metadata": {},
   "outputs": [],
   "source": [
    "%run data.py"
   ]
  },
  {
   "cell_type": "code",
   "execution_count": 3,
   "metadata": {},
   "outputs": [],
   "source": [
    "def unflatten(source: np.ndarray, lengths: List[int]) -> List[np.ndarray]:\n",
    "    \"\"\"\n",
    "    Takes an array and returns a list of arrays.\n",
    "    \n",
    "    Parameters\n",
    "    ----------\n",
    "    source\n",
    "        Array to be unflattened.\n",
    "    lengths\n",
    "        List of integers giving the length of each subarray.\n",
    "        Must sum to the length of source.\n",
    "    \n",
    "    Returns\n",
    "    -------\n",
    "    unflat\n",
    "        List of arrays.\n",
    "    \n",
    "    \"\"\"\n",
    "    conv = []\n",
    "    lp = 0\n",
    "    for arr in lengths:\n",
    "        arrconv = []\n",
    "        for le in arr:\n",
    "            arrconv.append(source[lp:le + lp])\n",
    "            lp += le\n",
    "        conv.append(arrconv)\n",
    "    ccs = list(itertools.chain(*conv))\n",
    "    return ccs"
   ]
  },
  {
   "cell_type": "code",
   "execution_count": 4,
   "metadata": {},
   "outputs": [],
   "source": [
    "def triu_inverse(x: np.ndarray, n: int) -> np.ndarray:\n",
    "    \"\"\"\n",
    "    Converts flattened upper-triangular matrices into full symmetric matrices.\n",
    "    \n",
    "    Parameters\n",
    "    ----------\n",
    "    x\n",
    "        Flattened matrices\n",
    "    n\n",
    "        Size of the n * n matrix\n",
    "    \n",
    "    Returns\n",
    "    -------\n",
    "    mat\n",
    "        Array of shape (length, n, n)\n",
    "    \n",
    "    \"\"\"\n",
    "    length = x.shape[0]\n",
    "    mat = np.zeros((length, n, n))\n",
    "    a, b = np.triu_indices(n, k=1)\n",
    "    mat[:, a, b] = x\n",
    "    mat += mat.swapaxes(1, 2)\n",
    "    return mat"
   ]
  },
  {
   "cell_type": "code",
   "execution_count": 5,
   "metadata": {},
   "outputs": [],
   "source": [
    "def statdist(X: np.ndarray) -> np.ndarray:\n",
    "    \"\"\"\n",
    "    Calculate the equilibrium distribution of a transition matrix.\n",
    "    \n",
    "    Parameters\n",
    "    ----------\n",
    "    X\n",
    "        Row-stochastic transition matrix\n",
    "    \n",
    "    Returns\n",
    "    -------\n",
    "    mu\n",
    "        Stationary distribution, i.e. the left\n",
    "        eigenvector associated with eigenvalue 1.\n",
    "    \n",
    "    \"\"\"\n",
    "    ev, evec = eig(X, left=True, right=False)\n",
    "    mu = evec.T[ev.argmax()]\n",
    "    mu /= mu.sum()\n",
    "    return mu"
   ]
  },
  {
   "cell_type": "code",
   "execution_count": 6,
   "metadata": {},
   "outputs": [],
   "source": [
    "def unique_sorting(rmsd: np.ndarray) -> np.ndarray:\n",
    "    \"\"\"\n",
    "    Sorts a matrix of RMSD values.\n",
    "    \n",
    "    Parameters\n",
    "    ----------\n",
    "    rmsd\n",
    "        Array of shape (n, n) with interstate differences.\n",
    "        This matrix should be acquired by calculating the RMSD\n",
    "        between a reference decomposition and a trial decomposition.\n",
    "    \n",
    "    Returns\n",
    "    -------\n",
    "    sorter\n",
    "        Array of sorted indices\n",
    "    \n",
    "    \"\"\"\n",
    "    size = rmsd.shape[0]\n",
    "    \n",
    "    # -1 is not yet assigned\n",
    "    sorter = np.full(size, -1, dtype=np.int8)\n",
    "    sorted_idx = rmsd.argsort(axis=None)\n",
    "    \n",
    "    # We walk through the sorted RMSDs from low to high and assign the 2D indices.\n",
    "    # If one is already assigned, we just jump to the next one, which will be the next-lowest RMSD.\n",
    "    for i, j in zip(*np.unravel_index(sorted_idx, (size, size))):\n",
    "        if sorter[i] < 0 and j not in sorter:\n",
    "            sorter[i] = j\n",
    "    return sorter"
   ]
  },
  {
   "cell_type": "code",
   "execution_count": 7,
   "metadata": {},
   "outputs": [],
   "source": [
    "def idx_to_traj(idx: int, lengths: List[int]) -> Tuple[int, int]:\n",
    "    \"\"\"\n",
    "    Given a trajectory index, find the round and trajectory file number.\n",
    "    \n",
    "    Parameters\n",
    "    ----------\n",
    "    idx\n",
    "        Trajectory index\n",
    "    lengths\n",
    "        Length of each round\n",
    "    \n",
    "    Returns\n",
    "    -------\n",
    "    round, number\n",
    "        Simulation round and corresponding trajectory number\n",
    "    \n",
    "    \"\"\"\n",
    "    lengths = np.array(lengths)\n",
    "    lcs = lengths.cumsum()\n",
    "    if idx >= lengths[0]:\n",
    "        nr = idx - lcs[lcs < idx][-1]\n",
    "        i = np.arange(len(lengths))[lcs > idx][0]\n",
    "    else:\n",
    "        i, nr = 0, idx\n",
    "    return i, nr"
   ]
  },
  {
   "cell_type": "code",
   "execution_count": 8,
   "metadata": {},
   "outputs": [],
   "source": [
    "def renormalize(mat, tol=1e-12, axis=1):\n",
    "    n = mat.shape[0]\n",
    "    while abs(np.ones(n) - mat.sum(axis=axis)).max() > tol:\n",
    "        mat = abs(mat) / abs(mat).sum(axis=axis)\n",
    "    return mat"
   ]
  },
  {
   "cell_type": "code",
   "execution_count": 9,
   "metadata": {},
   "outputs": [],
   "source": [
    "def plot_its(its, lags, dt=1.0):\n",
    "    multi = its.ndim == 3\n",
    "    nits, nlags = its.shape[-2], its.shape[-1]\n",
    "    fig = plt.figure(figsize=(4, 4))\n",
    "    ax = fig.add_subplot(111)\n",
    "    \n",
    "    if multi:\n",
    "        itsm = its.mean(axis=0)\n",
    "        cfl, cfu = np.percentile(its, q=(2.5, 97.5), axis=0)\n",
    "    else:\n",
    "        itsm = its\n",
    "    \n",
    "    ax.semilogy(lags * dt, lags * dt, color=\"k\")\n",
    "    ax.fill_between(lags * dt, ax.get_ylim()[0] * np.ones(len(lags)),\n",
    "                    lags * dt, color=\"k\", alpha=0.2)\n",
    "    for i in range(nits):\n",
    "        ax.plot(lags * dt, itsm[i], marker=\"o\",\n",
    "                    linestyle=\"dashed\", linewidth=1.5, color=colors[-(i + 2)])\n",
    "        ax.plot(lags * dt, itsm[i], marker=\"o\", linewidth=1.5, color=colors[-(i + 2)])\n",
    "        if multi:\n",
    "            ax.fill_between(lags * dt, cfl[i], cfu[i],\n",
    "                            interpolate=True, color=colors[-(i + 2)], alpha=0.2)\n",
    "    loc = ticker.LogLocator(base=10.0, subs=(0.2, 0.4, 0.6, 0.8), numticks=12)\n",
    "    ax.set_ylim(1, 1000000)\n",
    "    ax.set_yticks(10 ** np.arange(7))\n",
    "    ax.yaxis.set_minor_locator(loc)\n",
    "    ax.yaxis.set_minor_formatter(ticker.NullFormatter())\n",
    "    ax.set_xlabel(r\"$\\tau$ (ns)\", fontsize=24)\n",
    "    ax.set_ylabel(r\"$t_i$ (ns)\", fontsize=24)\n",
    "    ax.tick_params(labelsize=24)\n",
    "    sns.despine(ax=ax)\n",
    "    return fig"
   ]
  },
  {
   "cell_type": "code",
   "execution_count": 10,
   "metadata": {},
   "outputs": [],
   "source": [
    "def plot_ck(cke, ckp, lag):\n",
    "    multi = cke.ndim == 4\n",
    "    n = cke.shape[-2]\n",
    "    steps = cke.shape[-1]\n",
    "    \n",
    "    if multi:\n",
    "        ckem = cke.mean(axis=0)\n",
    "        ckpm = ckp.mean(axis=0)\n",
    "        ckep = np.percentile(cke, q=(2.5, 97.5), axis=0)\n",
    "        ckpp = np.percentile(ckp, q=(2.5, 97.5), axis=0)\n",
    "    else:\n",
    "        ckem = cke\n",
    "        ckpm = ckp\n",
    "    \n",
    "    fig, axes = plt.subplots(n, n, figsize=(4 * n, 4 * n), sharex=True)\n",
    "    for i in range(n):\n",
    "        for j in range(n):\n",
    "            ax = axes[i, j]\n",
    "            x = np.arange(0, steps * lag, lag)\n",
    "            if multi:\n",
    "                ax.errorbar(x, ckpm[i, j], yerr=[ckpm[i, j] - ckpp[0, i, j], ckpp[1, i, j] - ckpm[i, j]],\n",
    "                            linewidth=2, elinewidth=2)\n",
    "                ax.fill_between(x, ckep[0, i, j], ckep[1, i, j],\n",
    "                                alpha=0.2, interpolate=True, color=colors[1])\n",
    "            else:\n",
    "                ax.plot(x, ckpm[i, j], linestyle=\"-\", color=colors[0], linewidth=2)\n",
    "            ax.plot(x, ckem[i, j], linestyle=\"--\", color=colors[1], linewidth=2)\n",
    "            \n",
    "            if i == j:\n",
    "                ax.set_ylim(0.78, 1.02)\n",
    "                ax.text(0, 0.8, r\"{0} $\\to$ {1}\".format(i, j), fontsize=24, verticalalignment=\"center\")\n",
    "            else:\n",
    "                ax.set_ylim(-0.02, 0.22)\n",
    "                ax.text(0, 0.2, r\"{0} $\\to$ {1}\".format(i, j), fontsize=24, verticalalignment=\"center\")\n",
    "            ax.set_xticks(np.arange(0, steps * lag, lag), minor=True)\n",
    "            ax.set_xticks(np.arange(0, steps * lag, 2 * lag))\n",
    "            ax.set_xticklabels((np.arange(0, steps * lag, 2 * lag) * dt).astype(int))\n",
    "            ax.tick_params(labelsize=24)\n",
    "    fig.text(0.5, 0.01 * 1.5 * n, r\"$\\tau$ [ns]\", ha=\"center\", fontsize=24)\n",
    "    fig.text(0.01 * 1.5 * n, 0.5, r\"$P$\", va=\"center\", rotation=\"vertical\", fontsize=24)\n",
    "    fig.subplots_adjust(wspace=0.25)\n",
    "    return fig"
   ]
  },
  {
   "attachments": {},
   "cell_type": "markdown",
   "metadata": {},
   "source": [
    "## Data\n",
    "### Trajectories\n",
    "The conformational dynamics of K18 are investigated through the execution of 100 different MD simulations, lasting about 150 ns per simulation."
   ]
  },
  {
   "cell_type": "code",
   "execution_count": 11,
   "metadata": {
    "scrolled": false
   },
   "outputs": [],
   "source": [
    "lengths = [np.array([1501, 1501, 1501, 1501, 1501, 1501, 1501, 1501, 1501, 1501, 1501,\n",
    "       1501, 1501, 1501, 1501, 1501, 1501, 1501, 1501, 1501, 1501, 1501,\n",
    "       1501, 1321, 1136,  890, 1501,  728, 1501,  625, 1214, 1240, 1501,\n",
    "        727,  959, 1483,  995, 1339,  878,  994,  940, 1501, 1501,  965,\n",
    "       1123, 1004,  951, 1172, 1501, 1501,  973, 1501,  428, 1501, 1501,\n",
    "       1136, 1501, 1501, 1501, 1501, 1501,  607, 1501, 1501, 1501, 1501,\n",
    "       1501,  542, 1083,  972, 1501, 1501, 1501, 1501, 1501, 1501, 1501,\n",
    "       1501, 1501, 1501, 1501, 1501, 1501, 1501, 1501, 1501, 1501, 1501,\n",
    "       1501, 1501, 1501, 1501, 1501, 1501, 1501, 1501, 1501, 1501, 1501,\n",
    "       1501])]\n",
    "nframes = 135998"
   ]
  },
  {
   "attachments": {},
   "cell_type": "markdown",
   "metadata": {},
   "source": [
    "## VAMPNet"
   ]
  },
  {
   "attachments": {},
   "cell_type": "markdown",
   "metadata": {},
   "source": [
    "### Data preparation\n",
    "We use the dihedral data as input."
   ]
  },
  {
   "cell_type": "code",
   "execution_count": 12,
   "metadata": {},
   "outputs": [],
   "source": [
    "filename = \"data/dihedrals.npy\"\n",
    "input_flat = np.load(filename)\n",
    "input_data = unflatten(input_flat, lengths)\n",
    "d_flat = np.load(filename)\n",
    "ddata = unflatten(d_flat, lengths)"
   ]
  },
  {
   "cell_type": "code",
   "execution_count": 13,
   "metadata": {},
   "outputs": [],
   "source": [
    "lag = 200                         # Lag time\n",
    "n_dims = input_data[0].shape[1]  # Input dimension\n",
    "nres = 125                        # Number of residues\n",
    "dt = 0.1                        # Trajectory timestep in ns\n",
    "steps = 6                        # CK test steps\n",
    "bs_frames = 900000               # Number of frames in the bootstrap sample\n",
    "data_source = \"data/data_10000_dep3.hdf5\"\n",
    "attempts = 41\n",
    "\n",
    "outsizes = np.array([2, 3, 4, 5, 6, 7])\n",
    "lags = np.array([1, 2, 5, 10, 20, 50, 100, 200, 500, 1000])\n",
    "\n",
    "bs_frames = nframes"
   ]
  },
  {
   "attachments": {},
   "cell_type": "markdown",
   "metadata": {},
   "source": [
    "# Analysis\n",
    "\n",
    "## Neural network models"
   ]
  },
  {
   "cell_type": "code",
   "execution_count": 14,
   "metadata": {},
   "outputs": [],
   "source": [
    "sorters = {n: np.empty((attempts, n), dtype=int) for n in outsizes}\n",
    "pfs = {n: np.empty((attempts, nframes, n)) for n in outsizes}\n",
    "pfsn = {n: np.empty((attempts, nframes, n)) for n in outsizes}\n",
    "koops = {n: np.empty((attempts, n, n)) for n in outsizes}\n",
    "pis = {n: np.empty((attempts, n)) for n in outsizes}\n",
    "with h5py.File(data_source) as read:\n",
    "    store = read[\"red\"]\n",
    "    for i in range(1,attempts):\n",
    "        for n in outsizes:\n",
    "            sorters[n][i] = store[\"{0}/{1}/sorter\".format(i, n)][:]\n",
    "            pfs[n][i] = store[\"{0}/{1}/full_sorted\".format(i, n)][:]\n",
    "            pfsn[n][i] = pfs[n][i] / pfs[n][i].sum(axis=0)\n",
    "            koops[n][i] = store[\"{0}/{1}/k\".format(i, n)][:][sorters[n][i]][:, sorters[n][i]]\n",
    "            pis[n][i] = statdist(koops[n][i])"
   ]
  },
  {
   "cell_type": "code",
   "execution_count": null,
   "metadata": {},
   "outputs": [],
   "source": [
    "for n in [2,3,4,5,6]:\n",
    "    global_sorter = np.arange(n)\n",
    "    pm = pis[n][:, global_sorter]\n",
    "    pm = pm[1:]\n",
    "    \n",
    "    fig = plt.figure(figsize=(n * 1, 4))\n",
    "    ax = fig.add_subplot(111)\n",
    "    for i in range(n):\n",
    "        ax.plot(np.repeat([i + 1],40), pm[:, i],\n",
    "                c=colors[i], marker=\"o\", linewidth=0, alpha=0.5)\n",
    "\n",
    "    bp = ax.boxplot(pm, sym=\"\", whis=[5, 95], meanline=False, widths=0.5,\n",
    "                    patch_artist=False, medianprops=dict(color=\"k\"), showmeans=False,\n",
    "                    meanprops=dict(marker=\"o\", markersize=10, markeredgecolor=\"k\",\n",
    "                                markerfacecolor=\"white\", alpha=0.5))\n",
    "\n",
    "    ax.set_ylim(0, 1)\n",
    "    ax.set_ylabel(\"Probability\", fontsize=24, labelpad=10)\n",
    "    ax.set_xlabel(\"State\", fontsize=24, labelpad=10)\n",
    "    ax.tick_params(labelsize=24)\n",
    "    ax.tick_params(axis=\"x\", length=0, pad=10)\n",
    "    sns.despine(ax=ax)\n",
    "\n",
    "    # plt.savefig(\"fig_pdf/pops-boxplot-{0}.pdf\".format(n), transparent=True, bbox_inches=\"tight\")"
   ]
  },
  {
   "cell_type": "code",
   "execution_count": null,
   "metadata": {},
   "outputs": [],
   "source": [
    "n = 5\n",
    "global_sorter = np.arange(n)\n",
    "pm = pis[n].mean(axis=0)[global_sorter]\n",
    "pv = np.percentile(pis[n], q=(2.5, 97.5), axis=0)[:, global_sorter]\n",
    "for i in range(n):\n",
    "    fig = plt.figure(figsize=(n * 1, 4))\n",
    "    ax = fig.add_subplot(111)\n",
    "    cols = [(0.8, 0.8, 0.8)] * n\n",
    "    cols[i] = colors[i]\n",
    "    ax.bar(np.arange(n), pm, yerr=[pm - pv[0], pv[1] - pm], color=cols, capsize=8)\n",
    "    ax.set_ylim(0, 1)\n",
    "    ax.set_yticks([0.0, 0.5, 1.0])\n",
    "    ax.set_xticks(np.arange(n))\n",
    "    ax.set_ylabel(\"P\", fontsize=32, labelpad=10)\n",
    "    ax.tick_params(labelsize=32)\n",
    "    ax.tick_params(axis=\"x\", length=0, pad=10)\n",
    "    sns.despine(ax=ax)\n",
    "\n",
    "    # plt.savefig(\"figs_dpi800/pops-fine-{0}-{1}.png\".format(n, i), dpi=800, transparent=True, bbox_inches=\"tight\")"
   ]
  },
  {
   "attachments": {},
   "cell_type": "markdown",
   "metadata": {},
   "source": [
    "### Implied timescales"
   ]
  },
  {
   "cell_type": "code",
   "execution_count": null,
   "metadata": {
    "scrolled": true
   },
   "outputs": [],
   "source": [
    "with h5py.File(data_source) as store:\n",
    "    for n in [5]:\n",
    "        its = np.stack(store[\"red/{0}/{1}/its\".format(i, n)] for i in range(attempts))\n",
    "        its = np.delete(its, -1, axis=-1)\n",
    "        fig = plot_its(its, np.array([1, 2, 5, 10, 20, 50, 100, 200, 500]), dt=dt)\n",
    "        x_position = 20\n",
    "        plt.axvline(x=x_position, color='gray', linestyle='--')\n",
    "        label = r\"$\\tau$=20ns\"\n",
    "        plt.text(x_position + 1, 100000, label, fontsize=18, color='black')\n",
    "\n",
    "        # plt.savefig(\"fig_pdf/its-{0}.pdf\".format(n), bbox_inches=\"tight\", transparent=True)"
   ]
  },
  {
   "attachments": {},
   "cell_type": "markdown",
   "metadata": {},
   "source": [
    "### Chapman-Kolmogorov Test"
   ]
  },
  {
   "cell_type": "code",
   "execution_count": 22,
   "metadata": {},
   "outputs": [],
   "source": [
    "def plot_ck_rev(cke, ckp, lag):\n",
    "    \n",
    "    multi = cke.ndim == 4\n",
    "    n = cke.shape[-2]\n",
    "    steps = cke.shape[-1]\n",
    "\n",
    "    if multi:\n",
    "        ckem = cke.mean(axis=0)\n",
    "        ckpm = ckp.mean(axis=0)\n",
    "        ckep = np.percentile(cke, q=(2.5, 97.5), axis=0)\n",
    "        ckpp = np.percentile(ckp, q=(2.5, 97.5), axis=0)\n",
    "    else:\n",
    "        ckem = cke\n",
    "        ckpm = ckp\n",
    "\n",
    "    fig, axes = plt.subplots(n, n, figsize=(4 * n, 4 * n), sharex=True)\n",
    "\n",
    "    i1 = 0\n",
    "    i2 = 0\n",
    "\n",
    "    for i in [4,2,3,1,0]:\n",
    "        for j in [4,2,3,1,0]:    \n",
    "            \n",
    "            if i2 == 5:\n",
    "                i1 = i1 + 1\n",
    "                i2 = 0  \n",
    "            if i1 == 5:\n",
    "                i1 = 0\n",
    "            ax = axes[i1, i2]\n",
    "            x = np.arange(0, steps * lag, lag)\n",
    "            if multi:\n",
    "                ax.errorbar(x, ckpm[i, j], yerr=[ckpm[i, j] - ckpp[0, i, j], ckpp[1, i, j] - ckpm[i, j]],\n",
    "                            linewidth=2, elinewidth=2)\n",
    "                ax.fill_between(x, ckep[0, i, j], ckep[1, i, j],\n",
    "                                alpha=0.2, interpolate=True, color=colors[1])\n",
    "            else:\n",
    "                ax.plot(x, ckpm[i, j], linestyle=\"-\", color=colors[0], linewidth=2)\n",
    "            ax.plot(x, ckem[i, j], linestyle=\"--\", color=colors[1], linewidth=2)\n",
    "            \n",
    "            if i == j:\n",
    "                ax.set_ylim(0.78, 1.02)\n",
    "                ax.text(0, 0.8, r\"{0} $\\to$ {1}\".format(i1+1, i2+1), fontsize=24, verticalalignment=\"center\")\n",
    "            else:\n",
    "                ax.set_ylim(-0.02, 0.22)\n",
    "                ax.text(0, 0.2, r\"{0} $\\to$ {1}\".format(i1+1, i2+1), fontsize=24, verticalalignment=\"center\")\n",
    "            ax.set_xticks(np.arange(0, steps * lag, lag), minor=True)\n",
    "            ax.set_xticks(np.arange(0, steps * lag, 2 * lag))\n",
    "            ax.set_xticklabels((np.arange(0, steps * lag, 2 * lag) * dt).astype(int))\n",
    "            ax.tick_params(labelsize=24)\n",
    "            \n",
    "            i2 = i2 + 1\n",
    "\n",
    "    from matplotlib.lines import Line2D\n",
    "    legend_elements = [\n",
    "        Line2D([0], [0], color=colors[0], lw=2, linestyle='-', label=\"Predicted $K^n(\\\\tau)$\"),\n",
    "        Line2D([0], [0], color=colors[1], lw=2, linestyle='--', label=\"Estimated $K(n\\\\tau)$\"),\n",
    "    ]\n",
    "    fig.legend(handles=legend_elements, loc='lower center', ncol=len(legend_elements),bbox_to_anchor=(0.237,0.022),  fontsize=24)\n",
    "\n",
    "    fig.text(0.5, 0.01 * 1.5 * n, r\"$\\tau$ (ns)\", ha=\"center\", fontsize=24)\n",
    "    fig.text(0.01 * 1.5 * n, 0.5, r\"$P$\", va=\"center\", rotation=\"vertical\", fontsize=24)\n",
    "    fig.subplots_adjust(wspace=0.25)\n",
    "    return fig"
   ]
  },
  {
   "cell_type": "code",
   "execution_count": null,
   "metadata": {},
   "outputs": [],
   "source": [
    "with h5py.File(data_source) as store:\n",
    "    for n in [5]:\n",
    "        global_sorter = np.arange(n)\n",
    "        cke = np.stack(store[\"red/{0}/{1}/cke\".format(i, n)][:][sorters[n][i]][:, sorters[n][i]]\n",
    "                       for i in range(1,attempts))[:, global_sorter][:, :, global_sorter]\n",
    "        ckp = np.stack(store[\"red/{0}/{1}/ckp\".format(i, n)][:][sorters[n][i]][:, sorters[n][i]]\n",
    "                       for i in range(1,attempts))[:, global_sorter][:, :, global_sorter]\n",
    "        fig = plot_ck_rev(cke, ckp, lag=200)\n",
    "\n",
    "        # plt.savefig(\"fig_pdf/ck-{0}.pdf\".format(n), bbox_inches=\"tight\", transparent=True)"
   ]
  },
  {
   "attachments": {},
   "cell_type": "markdown",
   "metadata": {},
   "source": [
    "## Kinetics\n",
    "### Koopman operators"
   ]
  },
  {
   "cell_type": "code",
   "execution_count": null,
   "metadata": {},
   "outputs": [],
   "source": [
    "n = 5\n",
    "global_sorter = np.arange(n)\n",
    "fig, axes = plt.subplots(1, 2, figsize=(10, 5))\n",
    "for ax, mat, title in zip(axes, (koops[n][1:].mean(axis=0)[global_sorter][:, global_sorter],\n",
    "                                 koops[n][1:].std(axis=0)[global_sorter][:, global_sorter]),\n",
    "                          (\"$P$\", r\"$\\sigma(P)$\")):\n",
    "# for ax, mat, title in zip(axes, (koops[n].mean(axis=0)[global_sorter][:, global_sorter],\n",
    "#                                  koops[n].std(axis=0)[global_sorter][:, global_sorter]),\n",
    "#                           (\"$P$\", r\"$\\sigma(P)$\")):\n",
    "\n",
    "    ax.matshow(mat, vmin=0.0, vmax=0.02, interpolation=\"none\", cmap=\"GnBu\")\n",
    "    for i in range(n):\n",
    "        for j in range(n):\n",
    "            ax.text(j, i, \"{0:2.4f}\".format(mat[i, j]), ha=\"center\", va=\"center\", fontsize=12)\n",
    "    ax.set_xticklabels([])\n",
    "    ax.set_yticklabels([])\n",
    "    ax.set_title(title, fontsize=24)\n",
    "    ax.tick_params(length=0)\n",
    "\n",
    "    # plt.savefig(\"figs_dpi800/p-{0}.png\".format(n), dpi=800, bbox_inches=\"tight\", transparent=True)"
   ]
  },
  {
   "attachments": {},
   "cell_type": "markdown",
   "metadata": {},
   "source": [
    "### Mean first passage times"
   ]
  },
  {
   "cell_type": "code",
   "execution_count": 34,
   "metadata": {},
   "outputs": [],
   "source": [
    "mfpts, rates = {}, {}\n",
    "for n in outsizes:\n",
    "    mfpts[n] = np.zeros((attempts, n, n))\n",
    "    rates[n] = np.zeros((attempts, n, n))\n",
    "    for i in range(1,attempts):\n",
    "        for u in range(n):\n",
    "            for v in range(n):\n",
    "                if u == v:\n",
    "                    continue\n",
    "                koop = renormalize(koops[n][i])\n",
    "                f = tpt(koop, [u], [v])\n",
    "                rates[n][i, u, v] = f.rate\n",
    "                mfpts[n][i, u, v] = f.mfpt * 200 * dt * 0.001"
   ]
  },
  {
   "cell_type": "code",
   "execution_count": null,
   "metadata": {
    "scrolled": true
   },
   "outputs": [],
   "source": [
    "n = 5\n",
    "fig, axes = plt.subplots(1, 2, figsize=(10, 5))\n",
    "global_sorter = np.arange(n)\n",
    "for ax, mat, title in zip(axes, (mfpts[n][1:].mean(axis=0)[global_sorter][:, global_sorter],\n",
    "                                 mfpts[n][1:].std(axis=0)[global_sorter][:, global_sorter]),\n",
    "                          (r\"$\\mathrm{MFPT}$ [µs]\", r\"$\\sigma(\\mathrm{MFPT})$\")):\n",
    "# for ax, mat, title in zip(axes, (mfpts[n].mean(axis=0)[global_sorter][:, global_sorter],\n",
    "#                                  mfpts[n].std(axis=0)[global_sorter][:, global_sorter]),\n",
    "#                           (r\"$\\mathrm{MFPT}$ [µs]\", r\"$\\sigma(\\mathrm{MFPT})$\")):\n",
    "    im = ax.matshow(mat, vmin=0.0, vmax=60, interpolation=\"nearest\", cmap=\"GnBu\")\n",
    "    for i in range(n):\n",
    "        for j in range(n):\n",
    "            ax.text(j, i, \"{0:2.2f}\".format(mat[i, j]), ha=\"center\", va=\"center\", fontsize=12)\n",
    "    ax.set_xticklabels([])\n",
    "    ax.set_yticklabels([])\n",
    "    ax.set_title(title, fontsize=24)\n",
    "    ax.tick_params(length=0)\n",
    "\n",
    "# plt.savefig(\"figs_dpi800/mfpt-red-tmp-{0}.png\".format(n), dpi=800, bbox_inches=\"tight\", transparent=True)"
   ]
  },
  {
   "attachments": {},
   "cell_type": "markdown",
   "metadata": {},
   "source": [
    "### Timescales"
   ]
  },
  {
   "cell_type": "code",
   "execution_count": 23,
   "metadata": {},
   "outputs": [],
   "source": [
    "timescales = {}\n",
    "with h5py.File(data_source) as read:\n",
    "    store = read[\"red\"]\n",
    "    for n in outsizes:\n",
    "        timescales[n] = np.stack(store[\"{0}/{1}/its\".format(i, n)] for i in range(attempts))[:, ::-1] * 1e-3"
   ]
  },
  {
   "cell_type": "code",
   "execution_count": null,
   "metadata": {},
   "outputs": [],
   "source": [
    "for n in [5]:\n",
    "    fig = plt.figure(figsize=(n - 1, 4))\n",
    "    ax = fig.add_subplot(111)\n",
    "    for i in range(n - 1):\n",
    "        ax.plot(np.repeat([i + 1], attempts), timescales[n][:, i, -2],\n",
    "                c=colors[1:][i], marker=\"o\", linewidth=0, alpha=0.5)\n",
    "    bp = ax.boxplot(timescales[n][:, :, -2], sym=\"\", whis=[5, 95], meanline=False, widths=0.5,\n",
    "                    patch_artist=False, medianprops=dict(color=\"k\"), showmeans=False,\n",
    "                    meanprops=dict(marker=\"o\", markeredgecolor=\"k\", markerfacecolor=\"white\"))\n",
    "    ax.set_ylim(0, 50)\n",
    "    ax.set_yticks(np.arange(0,51,10))\n",
    "    # ax.set_ylabel(r\"$t_i$ [µs]\", fontsize=24, labelpad=10)\n",
    "    ax.set_ylabel(r\"$t_{implied}$ (µs)\", fontsize=24, labelpad=10)\n",
    "    ax.set_xlabel(r\"Timescale\", fontsize=24, labelpad=10)\n",
    "    ax.tick_params(labelsize=24)\n",
    "    ax.tick_params(axis=\"x\", length=0, pad=10)\n",
    "    sns.despine(ax=ax)\n",
    "\n",
    "    # plt.savefig(\"fig_pdf/timescales-boxplot-3-{0}.pdf\".format(n), bbox_inches=\"tight\", transparent=True)"
   ]
  }
 ],
 "metadata": {
  "kernelspec": {
   "display_name": "Python 3",
   "language": "python",
   "name": "python3"
  },
  "language_info": {
   "codemirror_mode": {
    "name": "ipython",
    "version": 3
   },
   "file_extension": ".py",
   "mimetype": "text/x-python",
   "name": "python",
   "nbconvert_exporter": "python",
   "pygments_lexer": "ipython3",
   "version": "3.5.6"
  }
 },
 "nbformat": 4,
 "nbformat_minor": 2
}
