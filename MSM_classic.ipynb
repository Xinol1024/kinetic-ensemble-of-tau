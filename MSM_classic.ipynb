{
 "cells": [
  {
   "cell_type": "code",
   "execution_count": null,
   "metadata": {},
   "outputs": [],
   "source": [
    "%matplotlib inline\n",
    "import matplotlib.pyplot as plt\n",
    "import numpy as np\n",
    "import pyemma\n",
    "import mdtraj as md\n",
    "from threading import Timer\n",
    "import glob\n",
    "import Bio.PDB\n",
    "from itertools import product\n",
    "from pandas import DataFrame"
   ]
  },
  {
   "cell_type": "code",
   "execution_count": null,
   "metadata": {},
   "outputs": [],
   "source": [
    "pdb = md.load('/home/yongnayuan/MXQ/traj/Tau_ini.pdb').topology\n",
    "\n",
    "files = glob.glob('/home/yongnayuan/MXQ/traj/*.xtc')\n",
    "print(pdb)\n",
    "print(files)"
   ]
  },
  {
   "cell_type": "code",
   "execution_count": null,
   "metadata": {},
   "outputs": [],
   "source": [
    "\n",
    "parser = PDBParser()\n",
    "\n",
    "\n",
    "structure = parser.get_structure('example', '/home/yongnayuan/MXQ/traj/Tau_ini.pdb')\n",
    "\n",
    "\n",
    "model = structure[0]\n",
    "\n",
    "\n",
    "residues = list(model.get_residues())\n",
    "\n",
    "\n",
    "phi_list = []\n",
    "psi_list = []\n",
    "\n",
    "for i in range(1, len(residues)-1):\n",
    "   \n",
    "    residue = residues[i]\n",
    "    prev_residue = residues[i-1]\n",
    "    next_residue = residues[i+1]\n",
    "    \n",
    "    \n",
    "    c = residue['C'].get_vector()\n",
    "    ca = residue['CA'].get_vector()\n",
    "    n = residue['N'].get_vector()\n",
    "\n",
    " \n",
    "num_pairs = len(residues)-2\n",
    "phi_indexes = np.zeros((num_pairs, 4), dtype=int)\n",
    "psi_indexes = np.zeros((num_pairs, 4), dtype=int)\n",
    "\n",
    "for i in range(1,num_pairs):\n",
    "    prev_residue = residues[i]\n",
    "    residue = residues[i+1]\n",
    "    phi_indexes[i, 0] = (prev_residue['C'].get_serial_number() - 1)\n",
    "    phi_indexes[i, 1] = (residue['N'].get_serial_number() -1 )\n",
    "    phi_indexes[i, 2] = (residue['CA'].get_serial_number() -1 )\n",
    "    phi_indexes[i, 3] = (residue['C'].get_serial_number() -1 )\n",
    "    \n",
    "    next_residue = residues[i+2]\n",
    "    psi_indexes[i, 0] = (prev_residue['N'].get_serial_number() -1)\n",
    "    psi_indexes[i, 1] = (residue['CA'].get_serial_number() -1 )\n",
    "    psi_indexes[i, 2] = (residue['C'].get_serial_number() -1) \n",
    "    psi_indexes[i, 3] = (next_residue['N'].get_serial_number() -1  )\n",
    "\n",
    "phi_indexes = np.delete(phi_indexes, 0, axis=0) \n",
    "psi_indexes = np.delete(psi_indexes, 0, axis=0) \n",
    "torsions_feat = pyemma.coordinates.featurizer(pdb)\n",
    "torsions_feat.add_dihedrals(phi_indexes)\n",
    "torsions_feat.add_dihedrals(psi_indexes)\n",
    "torsions_data = pyemma.coordinates.load(files, features=torsions_feat)"
   ]
  },
  {
   "cell_type": "code",
   "execution_count": null,
   "metadata": {},
   "outputs": [],
   "source": [
    "tica = pyemma.coordinates.tica(torsions_data, lag=500)\n",
    "tica_output = tica.get_output()\n",
    "tica_concatenated = np.concatenate(tica_output)"
   ]
  },
  {
   "cell_type": "code",
   "execution_count": null,
   "metadata": {},
   "outputs": [],
   "source": [
    "cluster = pyemma.coordinates.cluster_kmeans(\n",
    "    tica_output, k=100, max_iter=1000)\n",
    "dtrajs_concatenated = np.concatenate(cluster.dtrajs)"
   ]
  },
  {
   "cell_type": "code",
   "execution_count": null,
   "metadata": {},
   "outputs": [],
   "source": [
    "its = pyemma.msm.its(cluster.dtrajs, lags=600, nits=10,n_jobs=1)  \n",
    "pyemma.plots.plot_implied_timescales(its, units= 'ns', dt=0.1)"
   ]
  },
  {
   "cell_type": "code",
   "execution_count": null,
   "metadata": {},
   "outputs": [],
   "source": [
    "msm = pyemma.msm.bayesian_markov_model(cluster.dtrajs, lag=400, dt_traj='0.1 ns')\n",
    "nstates = 5\n",
    "cktest = msm.cktest(nstates,n_jobs=1) \n",
    "pyemma.plots.plot_cktest(cktest, dt=0.1, units='ns'); "
   ]
  },
  {
   "cell_type": "code",
   "execution_count": null,
   "metadata": {},
   "outputs": [],
   "source": [
    "\n",
    "mfpt = np.zeros((nstates, nstates))\n",
    "for i, j in product(range(nstates), repeat=2):\n",
    "    mfpt[i, j] = msm.mfpt(\n",
    "        msm.metastable_sets[i],\n",
    "        msm.metastable_sets[j])\n",
    "\n",
    "print('MFPT / ns:')\n",
    "DataFrame(np.round(mfpt, decimals=2), index=range(1, nstates + 1), columns=range(1, nstates + 1))"
   ]
  },
  {
   "cell_type": "code",
   "execution_count": null,
   "metadata": {},
   "outputs": [],
   "source": [
    "inverse_mfpt = np.zeros_like(mfpt)\n",
    "nz = mfpt.nonzero()\n",
    "inverse_mfpt[nz] = 1.0 /( mfpt[nz] *1000)\n",
    "\n",
    "pyemma.plots.plot_network(\n",
    "    inverse_mfpt,\n",
    "    pos=coarse_state_centers,\n",
    "    state_colors =['blue', 'orange', 'green', 'red', 'purple'],\n",
    "    arrow_label_format='%.1f us',\n",
    "    arrow_labels=mfpt/1000,\n",
    "    arrow_scale=2.0,\n",
    "    state_labels=range(1, nstates + 1),\n",
    "    size=12,);"
   ]
  },
  {
   "cell_type": "code",
   "execution_count": null,
   "metadata": {},
   "outputs": [],
   "source": [
    "p_values = np.zeros(len(msm.metastable_sets))\n",
    "print('state\\tπ\\t\\tG/kT')\n",
    "for i, s in enumerate(msm.metastable_sets):\n",
    "    p = msm.pi[s].sum()\n",
    "    p_values[i] = p\n",
    "    print('{}\\t{:f}\\t{:f}'.format(i + 1, p, -np.log(p)))\n",
    "\n",
    "print(p_values)"
   ]
  },
  {
   "cell_type": "code",
   "execution_count": null,
   "metadata": {},
   "outputs": [],
   "source": [
    "fig, ax = plt.subplots(figsize=(5, 4), sharex=True)\n",
    "\n",
    "pyemma.plots.plot_free_energy(\n",
    "    *tica_concatenated[:, :2].T,\n",
    "    weights=np.concatenate(msm.trajectory_weights()),\n",
    "    ax=ax,\n",
    "    cmap=plt.cm.nipy_spectral_r,\n",
    "    legacy=False)\n",
    "\n",
    "ax.set_xlabel('IC 1')\n",
    "ax.set_ylabel('IC 2')\n",
    "\n",
    "ax.set_title('Reweighted free energy surface', fontweight='bold')\n",
    "fig.tight_layout()"
   ]
  },
  {
   "cell_type": "code",
   "execution_count": null,
   "metadata": {},
   "outputs": [],
   "source": [
    "pcca_samples = msm.sample_by_distributions(msm.metastable_distributions, 1000)\n",
    "torsions_source = pyemma.coordinates.source(files, features=torsions_feat)\n",
    "pyemma.coordinates.save_trajs(\n",
    "    torsions_source,\n",
    "    pcca_samples,\n",
    "    outfiles=['./data/pcca{}_1samples.pdb'.format(n + 1)\n",
    "              for n in range(msm.n_metastable)])"
   ]
  }
 ],
 "metadata": {
  "language_info": {
   "name": "python"
  }
 },
 "nbformat": 4,
 "nbformat_minor": 2
}
